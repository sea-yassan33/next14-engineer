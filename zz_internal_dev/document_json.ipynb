{
 "cells": [
  {
   "cell_type": "markdown",
   "metadata": {},
   "source": [
    "# Document用jsonファイルの作成"
   ]
  },
  {
   "cell_type": "code",
   "execution_count": 9,
   "metadata": {},
   "outputs": [],
   "source": [
    "import pandas as pd\n",
    "import numpy as np\n",
    "import glob\n",
    "import json\n",
    "import datetime\n",
    "import shutil\n",
    "# 初期値の設定\n",
    "date_str=datetime.datetime.now().strftime('%Y-%m-%d %H:%M:%S')\n",
    "df_format = pd.DataFrame({'title':[],\"md_path\": [],\"language\":[], \"date\": []})"
   ]
  },
  {
   "cell_type": "code",
   "execution_count": 10,
   "metadata": {},
   "outputs": [
    {
     "data": {
      "text/html": [
       "<div>\n",
       "<style scoped>\n",
       "    .dataframe tbody tr th:only-of-type {\n",
       "        vertical-align: middle;\n",
       "    }\n",
       "\n",
       "    .dataframe tbody tr th {\n",
       "        vertical-align: top;\n",
       "    }\n",
       "\n",
       "    .dataframe thead th {\n",
       "        text-align: right;\n",
       "    }\n",
       "</style>\n",
       "<table border=\"1\" class=\"dataframe\">\n",
       "  <thead>\n",
       "    <tr style=\"text-align: right;\">\n",
       "      <th></th>\n",
       "      <th>title</th>\n",
       "      <th>md_path</th>\n",
       "      <th>language</th>\n",
       "      <th>date</th>\n",
       "    </tr>\n",
       "  </thead>\n",
       "  <tbody>\n",
       "    <tr>\n",
       "      <th>1</th>\n",
       "      <td>DataFrameのforループ処理</td>\n",
       "      <td>./data/md_file/doc001.md</td>\n",
       "      <td>python</td>\n",
       "      <td>2025-01-01 09:05:43</td>\n",
       "    </tr>\n",
       "  </tbody>\n",
       "</table>\n",
       "</div>"
      ],
      "text/plain": [
       "                title                   md_path language                 date\n",
       "1  DataFrameのforループ処理  ./data/md_file/doc001.md   python  2025-01-01 09:05:43"
      ]
     },
     "execution_count": 10,
     "metadata": {},
     "output_type": "execute_result"
    }
   ],
   "source": [
    "df = pd.read_csv(\"./data/md_data.csv\",index_col=0)\n",
    "df"
   ]
  },
  {
   "cell_type": "markdown",
   "metadata": {},
   "source": [
    "## 追加マークダウンファイルのインポート"
   ]
  },
  {
   "cell_type": "code",
   "execution_count": 11,
   "metadata": {},
   "outputs": [
    {
     "name": "stdout",
     "output_type": "stream",
     "text": [
      "not found img files\n"
     ]
    },
    {
     "data": {
      "text/html": [
       "<div>\n",
       "<style scoped>\n",
       "    .dataframe tbody tr th:only-of-type {\n",
       "        vertical-align: middle;\n",
       "    }\n",
       "\n",
       "    .dataframe tbody tr th {\n",
       "        vertical-align: top;\n",
       "    }\n",
       "\n",
       "    .dataframe thead th {\n",
       "        text-align: right;\n",
       "    }\n",
       "</style>\n",
       "<table border=\"1\" class=\"dataframe\">\n",
       "  <thead>\n",
       "    <tr style=\"text-align: right;\">\n",
       "      <th></th>\n",
       "      <th>title</th>\n",
       "      <th>md_path</th>\n",
       "      <th>language</th>\n",
       "      <th>date</th>\n",
       "    </tr>\n",
       "  </thead>\n",
       "  <tbody>\n",
       "    <tr>\n",
       "      <th>1</th>\n",
       "      <td>DataFrameのforループ処理</td>\n",
       "      <td>./data/md_file/doc001.md</td>\n",
       "      <td>python</td>\n",
       "      <td>2025-01-01 09:05:43</td>\n",
       "    </tr>\n",
       "    <tr>\n",
       "      <th>2</th>\n",
       "      <td>pandasで重複を削除</td>\n",
       "      <td>./data/md_file/doc002.md</td>\n",
       "      <td>- python</td>\n",
       "      <td>2025-01-01 09:53:34</td>\n",
       "    </tr>\n",
       "  </tbody>\n",
       "</table>\n",
       "</div>"
      ],
      "text/plain": [
       "                title                   md_path  language                 date\n",
       "1  DataFrameのforループ処理  ./data/md_file/doc001.md    python  2025-01-01 09:05:43\n",
       "2        pandasで重複を削除  ./data/md_file/doc002.md  - python  2025-01-01 09:53:34"
      ]
     },
     "execution_count": 11,
     "metadata": {},
     "output_type": "execute_result"
    }
   ],
   "source": [
    "df = pd.read_csv(\"./data/md_data.csv\",index_col=0)\n",
    "markdown_files = glob.glob(\"./data/add_md/*.md\")\n",
    "len(markdown_files)\n",
    "## markdown_filesがない場合は処理を終了する\n",
    "if len(markdown_files)==0:\n",
    "  print(\"markdown_files is not found\")\n",
    "else:\n",
    "  ## markdown_filesがある場合\n",
    "  for md_path in markdown_files:\n",
    "    date_str=datetime.datetime.now().strftime('%Y-%m-%d %H:%M:%S')\n",
    "    # markdownファイルのタイトルをmdファイルの２行目の文字列から取得\n",
    "    with open(md_path) as f:\n",
    "      lines = f.readlines()\n",
    "      title = lines[1].replace(\"# \",\"\").replace(\"\\n\",\"\")\n",
    "      language = lines[3].replace(\"# \",\"\").replace(\"\\n\",\"\")\n",
    "    #title = md_path.split(\"/\")[-1].replace(\".md\",\"\")\n",
    "    df_2 = pd.DataFrame([{'title':title,\"md_path\": md_path.replace('add_md','md_file'),\"language\":language, \"date\": date_str}])\n",
    "    df = pd.concat([df, df_2], axis=0)\n",
    "    ## 追加のファイルを移動する\n",
    "    md_path_new = md_path.replace('add_md','md_file')\n",
    "    !mv {md_path} {md_path_new}\n",
    "  # インデックスを1から通し番号に設定\n",
    "  df.index = range(1, len(df) + 1)\n",
    "  df.to_csv(\"./data/md_data.csv\", index=True)\n",
    "# imgファイルを移動\n",
    "img_files = glob.glob(\"./data/add_md/img/*\")\n",
    "if len(img_files)==0:\n",
    "  print(\"not found img files\")\n",
    "else:\n",
    "  for img_file in img_files:\n",
    "    img_file_name = f'../public/img/{img_file.split(\"/\")[-1]}'\n",
    "    shutil.move(img_file, img_file_name)\n",
    "## \n",
    "df\n"
   ]
  },
  {
   "cell_type": "markdown",
   "metadata": {},
   "source": [
    "## jsonファイルの作成"
   ]
  },
  {
   "cell_type": "code",
   "execution_count": 12,
   "metadata": {},
   "outputs": [
    {
     "data": {
      "text/html": [
       "<div>\n",
       "<style scoped>\n",
       "    .dataframe tbody tr th:only-of-type {\n",
       "        vertical-align: middle;\n",
       "    }\n",
       "\n",
       "    .dataframe tbody tr th {\n",
       "        vertical-align: top;\n",
       "    }\n",
       "\n",
       "    .dataframe thead th {\n",
       "        text-align: right;\n",
       "    }\n",
       "</style>\n",
       "<table border=\"1\" class=\"dataframe\">\n",
       "  <thead>\n",
       "    <tr style=\"text-align: right;\">\n",
       "      <th></th>\n",
       "      <th>title</th>\n",
       "      <th>md_path</th>\n",
       "      <th>language</th>\n",
       "      <th>date</th>\n",
       "    </tr>\n",
       "  </thead>\n",
       "  <tbody>\n",
       "    <tr>\n",
       "      <th>1</th>\n",
       "      <td>DataFrameのforループ処理</td>\n",
       "      <td>./data/md_file/doc001.md</td>\n",
       "      <td>python</td>\n",
       "      <td>2025-01-01 09:05:43</td>\n",
       "    </tr>\n",
       "    <tr>\n",
       "      <th>2</th>\n",
       "      <td>pandasで重複を削除</td>\n",
       "      <td>./data/md_file/doc002.md</td>\n",
       "      <td>python</td>\n",
       "      <td>2025-01-01 09:53:34</td>\n",
       "    </tr>\n",
       "  </tbody>\n",
       "</table>\n",
       "</div>"
      ],
      "text/plain": [
       "                title                   md_path language                date\n",
       "1  DataFrameのforループ処理  ./data/md_file/doc001.md   python 2025-01-01 09:05:43\n",
       "2        pandasで重複を削除  ./data/md_file/doc002.md   python 2025-01-01 09:53:34"
      ]
     },
     "execution_count": 12,
     "metadata": {},
     "output_type": "execute_result"
    }
   ],
   "source": [
    "df2 =  pd.read_csv(\"./data/md_data.csv\",index_col=0)\n",
    "df2['date'] = pd.to_datetime(df2['date'])\n",
    "#df2.sort_values(\"date\",ascending=False,inplace=True)\n",
    "json_list=[]\n",
    "for index, row in df2.iterrows():\n",
    "  with open(row['md_path'], \"r\", encoding=\"utf-8\") as file:\n",
    "    content = file.read()\n",
    "    content = content.replace(\"](./img\",\"](/img\")\n",
    "  json_item = {\n",
    "    \"id\": index,\n",
    "    \"title\": row['title'],\n",
    "    \"language\": row['language'],\n",
    "    \"content\": content,\n",
    "    \"updatedAt\": row['date'].strftime('%Y-%m-%d %H:%M:%S')\n",
    "  }\n",
    "  json_list.append(json_item)\n",
    "## jsonファイルに書き換える\n",
    "with open('../public/data/document.json', 'w') as f:\n",
    "    json.dump(json_list, f,ensure_ascii=False, indent=4)\n",
    "df2"
   ]
  }
 ],
 "metadata": {
  "kernelspec": {
   "display_name": "Python 3",
   "language": "python",
   "name": "python3"
  },
  "language_info": {
   "codemirror_mode": {
    "name": "ipython",
    "version": 3
   },
   "file_extension": ".py",
   "mimetype": "text/x-python",
   "name": "python",
   "nbconvert_exporter": "python",
   "pygments_lexer": "ipython3",
   "version": "3.10.11"
  }
 },
 "nbformat": 4,
 "nbformat_minor": 2
}
